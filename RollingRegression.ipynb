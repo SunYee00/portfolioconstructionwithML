{
 "cells": [
  {
   "cell_type": "markdown",
   "id": "22d3c367-ed77-44a0-9169-9ab74d6e38ff",
   "metadata": {},
   "source": [
    "### Loading Data"
   ]
  },
  {
   "cell_type": "code",
   "execution_count": null,
   "id": "529b93ab-1c4c-4544-9643-6aa667125e58",
   "metadata": {},
   "outputs": [],
   "source": [
    "from statsmodels.regression.rolling import RollingOLS\n",
    "import pandas_datareader.data as web\n",
    "import matplotlib.pyplot as plt\n",
    "import statsmodels.api as sm\n",
    "import pandas as pd\n",
    "import numpy as np\n",
    "import datetime as dt\n",
    "import yfinance as yf\n",
    "import pandas_ta\n",
    "import warnings\n",
    "warnings.filterwarnings('ignore')\n",
    "\n",
    "!pip install pandas-ta\n",
    "import pandas_ta as ta\n",
    "import math"
   ]
  },
  {
   "cell_type": "code",
   "execution_count": null,
   "id": "8a38a9a6-c1d0-440a-bb35-2985d7222d84",
   "metadata": {},
   "outputs": [],
   "source": [
    "# Define a list with the given ticker symbols\n",
    "klci_stocks = [\n",
    "    '5681.KL', '3182.KL', '1066.KL', '5285.KL', '5296.KL', '1295.KL',\n",
    "    '1082.KL', '5183.KL', '7084.KL', '1155.KL', '5819.KL', '1015.KL',\n",
    "    '4863.KL', '5225.KL', '4715.KL', '5347.KL', '1961.KL', '1023.KL',\n",
    "    '6888.KL', '4707.KL', '4065.KL', '6947.KL', '6012.KL', '2445.KL',\n",
    "    '3816.KL', '4197.KL', '4677.KL', '6033.KL', '6742.KL', '8869.KL'\n",
    "]\n",
    "\n",
    "# Display the list\n",
    "print(klci_stocks)"
   ]
  },
  {
   "cell_type": "code",
   "execution_count": null,
   "id": "d707635d-f389-40a3-88df-236418affad8",
   "metadata": {},
   "outputs": [],
   "source": [
    "#Extract data of stocks listed in KLCI index from yfinance from January 2022 to March 2024\n",
    "\n",
    "end_date = '2024-03-31'\n",
    "\n",
    "start_date = '2022-01-01'\n",
    "\n",
    "df = yf.download(tickers=klci_stocks,\n",
    "                 start=start_date,\n",
    "                 end=end_date).stack()\n",
    "#set date and ticker as index\n",
    "df.index.names = ['date', 'ticker']\n",
    "\n",
    "df.columns = df.columns.str.lower()\n",
    "\n",
    "df\n"
   ]
  },
  {
   "cell_type": "code",
   "execution_count": null,
   "id": "d94bd4b3-3b23-423a-9056-2c6f42d848e7",
   "metadata": {},
   "outputs": [],
   "source": [
    "#Check details and if any missing values\n",
    "df.info()\n",
    "df.isnull().sum()"
   ]
  },
  {
   "cell_type": "markdown",
   "id": "3e886f9a-172b-414b-9782-fa8d42a6d777",
   "metadata": {},
   "source": [
    "## Calculate Technical Indicator\n",
    "\n"
   ]
  },
  {
   "cell_type": "code",
   "execution_count": null,
   "id": "4f5dab2f-e176-424c-8de7-09a3b240949a",
   "metadata": {},
   "outputs": [],
   "source": [
    "df['garman_klass_vol'] = np.sqrt((np.log(df['high'])-np.log(df['low']))**2)/2-(2*np.log(2)-1)*((np.log(df['adj close'])-np.log(df['open']))**2)\n",
    "\n",
    "##################can try adjust length\n",
    "df['rsi'] = df.groupby(level=1)['adj close'].transform(lambda x: pandas_ta.rsi(close=x, length=20))\n",
    "\n",
    "df['bb_low'] = df.groupby(level=1)['adj close'].transform(lambda x: pandas_ta.bbands(close=np.log1p(x), length=20).iloc[:,0])\n",
    "                                                          \n",
    "df['bb_mid'] = df.groupby(level=1)['adj close'].transform(lambda x: pandas_ta.bbands(close=np.log1p(x), length=20).iloc[:,1])\n",
    "                                                          \n",
    "df['bb_high'] = df.groupby(level=1)['adj close'].transform(lambda x: pandas_ta.bbands(close=np.log1p(x), length=20).iloc[:,2])\n",
    "\n",
    "def compute_atr(stock_data):\n",
    "    atr = pandas_ta.atr(high=stock_data['high'],\n",
    "                        low=stock_data['low'],\n",
    "                        close=stock_data['close'],\n",
    "                        length=14)\n",
    "    return atr\n",
    "\n",
    "df['atr'] = df.groupby(level=1, group_keys=False).apply(compute_atr)\n",
    "\n",
    "def compute_macd(close):\n",
    "    macd = ta.macd(close=close, length=20).iloc[:,0]\n",
    "    return macd.sub(macd.mean()).div(macd.std())\n",
    "\n",
    "df['macd'] = df.groupby(level=1, group_keys=False)['adj close'].apply(compute_macd)\n",
    "\n",
    "df['dollar_volume'] = (df['adj close']*df['volume'])/1e6\n",
    "\n",
    "df"
   ]
  },
  {
   "cell_type": "code",
   "execution_count": null,
   "id": "47692c03-9555-412f-9ccc-67878927c61d",
   "metadata": {},
   "outputs": [],
   "source": [
    "# to normalize the ATR value\n",
    "df.drop('atr',axis='columns')\n",
    "\n",
    "def compute_atr(stock_data):\n",
    "    atr = pandas_ta.atr(high=stock_data['high'],\n",
    "                        low=stock_data['low'],\n",
    "                        close=stock_data['close'],\n",
    "                        length=14)\n",
    "    #return atr\n",
    "    return atr.sub(atr.mean()).div(atr.std())\n",
    "\n",
    "df['atr'] = df.groupby(level=1, group_keys=False).apply(compute_atr)"
   ]
  },
  {
   "cell_type": "markdown",
   "id": "2ab4d721-dd52-487a-a619-1a46d4c15dac",
   "metadata": {},
   "source": [
    "## Aggregate to monthly level"
   ]
  },
  {
   "cell_type": "code",
   "execution_count": null,
   "id": "cf4478b1-a58e-4310-ab66-3c6389aa993c",
   "metadata": {},
   "outputs": [],
   "source": [
    "#To reduce training time and experiment with features and strategies\n",
    "#convert the business-daily data to month-end frequency.\n",
    "\n",
    "last_cols = [c for c in df.columns.unique(0) if c not in ['dollar_volume', 'volume', 'open',\n",
    "                                                          'high', 'low', 'close','daily return']]\n",
    "\n",
    "monthdata = (pd.concat([df.unstack('ticker')['dollar_volume'].resample('M').mean().stack('ticker').to_frame('dollar_volume'),\n",
    "                   df.unstack()[last_cols].resample('M').last().stack('ticker')],\n",
    "                  axis=1)).dropna()\n",
    "\n",
    "monthdata = monthdata.drop(['dollar_volume'],axis=1)"
   ]
  },
  {
   "cell_type": "code",
   "execution_count": null,
   "id": "e19135a3-2bb0-44c7-ab59-e57c95c6d101",
   "metadata": {},
   "outputs": [],
   "source": [
    "monthdata"
   ]
  },
  {
   "cell_type": "markdown",
   "id": "b4cb5624-210f-4fd6-91d4-61fb36afa4bc",
   "metadata": {},
   "source": [
    "## Monthly Returns for Different Time Horizon"
   ]
  },
  {
   "cell_type": "code",
   "execution_count": null,
   "id": "57fc0bd5-3d16-4a27-93a9-a33ae700a579",
   "metadata": {},
   "outputs": [],
   "source": [
    "def calculate_returns(df):\n",
    "\n",
    "    outlier_cutoff = 0.005\n",
    "\n",
    "    lags = [1, 3, 6, 9]\n",
    "\n",
    "    for lag in lags:\n",
    "\n",
    "        df[f'return_{lag}m'] = (df['adj close']\n",
    "                              .pct_change(lag)\n",
    "                              .pipe(lambda x: x.clip(lower=x.quantile(outlier_cutoff),\n",
    "                                                     upper=x.quantile(1-outlier_cutoff)))\n",
    "                              .add(1)\n",
    "                              .pow(1/lag)\n",
    "                              .sub(1))\n",
    "    return df\n",
    "    \n",
    "    \n",
    "monthdata = monthdata.groupby(level=1, group_keys=False).apply(calculate_returns).dropna()\n",
    "monthdata"
   ]
  },
  {
   "cell_type": "markdown",
   "id": "ef53be50-b199-4022-88ad-c4f7f1b5984b",
   "metadata": {},
   "source": [
    "## FAMA-FRENCH FIVE FACTOR\n"
   ]
  },
  {
   "cell_type": "code",
   "execution_count": null,
   "id": "0c7fb365-4ad3-48c2-9c17-80aba65b1c00",
   "metadata": {},
   "outputs": [],
   "source": [
    "factor_data = web.DataReader('Emerging_5_Factors',\n",
    "                               'famafrench',\n",
    "                               start='2022')[0].drop('RF', axis=1)\n",
    "\n",
    "factor_data.index = factor_data.index.to_timestamp()\n",
    "\n",
    "factor_data = factor_data.resample('M').last().div(100)\n",
    "\n",
    "factor_data.index.name = 'date'\n",
    "\n",
    "factor_data = factor_data.join(monthdata['return_1m']).sort_index()\n",
    "\n",
    "factor_data"
   ]
  },
  {
   "cell_type": "code",
   "execution_count": null,
   "id": "bd2a3970-eb87-4a55-8c9a-7888aaff3584",
   "metadata": {},
   "outputs": [],
   "source": [
    "#calculate rolling factor betas\n",
    "\n",
    "betas = (factor_data.groupby(level=1,\n",
    "                            group_keys=False)\n",
    "         .apply(lambda x: RollingOLS(endog=x['return_1m'], \n",
    "                                     exog=sm.add_constant(x.drop('return_1m', axis=1)),\n",
    "                                     window=min(6, x.shape[0]),\n",
    "                                     min_nobs=len(x.columns))\n",
    "         .fit(params_only=True)\n",
    "         .params\n",
    "         .drop('const', axis=1)))\n",
    "\n",
    "betas"
   ]
  },
  {
   "cell_type": "code",
   "execution_count": null,
   "id": "dc4fda3c-9b8f-46d4-91db-b37243bd06e4",
   "metadata": {},
   "outputs": [],
   "source": [
    "factors = ['Mkt-RF', 'SMB', 'HML', 'RMW', 'CMA']\n",
    "\n",
    "proc_data = (monthdata.join(betas.groupby('ticker').shift()))\n",
    "\n",
    "proc_data.loc[:, factors] = proc_data.groupby('ticker', group_keys=False)[factors].apply(lambda x: x.fillna(x.mean()))\n",
    "\n",
    "proc_data = proc_data.drop('adj close', axis=1)\n",
    "\n",
    "proc_data = proc_data.dropna()\n",
    "\n",
    "proc_data.info()\n",
    "\n",
    "proc_data"
   ]
  }
 ],
 "metadata": {
  "kernelspec": {
   "display_name": "Python 3 (ipykernel)",
   "language": "python",
   "name": "python3"
  },
  "language_info": {
   "codemirror_mode": {
    "name": "ipython",
    "version": 3
   },
   "file_extension": ".py",
   "mimetype": "text/x-python",
   "name": "python",
   "nbconvert_exporter": "python",
   "pygments_lexer": "ipython3",
   "version": "3.11.8"
  }
 },
 "nbformat": 4,
 "nbformat_minor": 5
}
